{
 "cells": [
  {
   "cell_type": "markdown",
   "metadata": {},
   "source": [
    "# Multi-Layered Neural Network"
   ]
  },
  {
   "cell_type": "code",
   "execution_count": 1,
   "metadata": {},
   "outputs": [],
   "source": [
    "import time\n",
    "import numpy as np\n",
    "import h5py\n",
    "import matplotlib.pyplot as plt\n",
    "import scipy\n",
    "import skimage\n",
    "\n",
    "#from numpy import asarray\n",
    "from matplotlib import image\n",
    "from PIL import Image\n",
    "from scipy import ndimage\n",
    "from dnn_app_utils_v3 import *\n"
   ]
  },
  {
   "cell_type": "code",
   "execution_count": 2,
   "metadata": {},
   "outputs": [],
   "source": [
    "train_dataset = h5py.File('train_catvnoncat.h5', 'r')\n",
    "train_x_orig = np.array(train_dataset[\"train_set_x\"][:]) # your train set features\n",
    "train_y_orig = np.array(train_dataset[\"train_set_y\"][:]) # your train set labels\n",
    "\n",
    "test_dataset = h5py.File('test_catvnoncat.h5', \"r\")\n",
    "test_x_orig = np.array(test_dataset[\"test_set_x\"][:]) # your test set features\n",
    "test_y_orig = np.array(test_dataset[\"test_set_y\"][:]) # your test set labels\n",
    "\n",
    "train_y = train_y_orig.reshape((1, train_y_orig.shape[0]))\n",
    "test_y = test_y_orig.reshape((1, test_y_orig.shape[0]))\n",
    "\n",
    "classes = np.array(test_dataset[\"list_classes\"][:])\n"
   ]
  },
  {
   "cell_type": "code",
   "execution_count": 3,
   "metadata": {},
   "outputs": [
    {
     "name": "stdout",
     "output_type": "stream",
     "text": [
      "train_x's shape: (12288, 209)\n",
      "test_x's shape: (12288, 50)\n"
     ]
    }
   ],
   "source": [
    "# Reshape the training and test examples \n",
    "train_x_flatten = train_x_orig.reshape(train_x_orig.shape[0], -1).T   # The \"-1\" makes reshape flatten the remaining dimensions\n",
    "test_x_flatten = test_x_orig.reshape(test_x_orig.shape[0], -1).T\n",
    "\n",
    "# Standardize data to have feature values between 0 and 1.\n",
    "train_x = train_x_flatten/255.\n",
    "test_x = test_x_flatten/255.\n",
    "\n",
    "print (\"train_x's shape: \" + str(train_x.shape))\n",
    "print (\"test_x's shape: \" + str(test_x.shape))"
   ]
  },
  {
   "cell_type": "code",
   "execution_count": 4,
   "metadata": {},
   "outputs": [
    {
     "name": "stdout",
     "output_type": "stream",
     "text": [
      "Number of training examples: m_train = 209\n",
      "Number of testing examples: m_test = 50\n",
      "Height/Width of each image: num_px = 64\n",
      "Each image is of size: (64, 64, 3)\n",
      "train_set_x shape: (209, 64, 64, 3)\n",
      "train_set_y shape: (1, 209)\n",
      "test_set_x shape: (50, 64, 64, 3)\n",
      "test_set_y shape: (1, 50)\n"
     ]
    }
   ],
   "source": [
    "m_train = train_x_orig.shape[0]\n",
    "m_test = test_x_orig.shape[0]\n",
    "num_px = train_x_orig.shape[1]\n",
    "\n",
    "\n",
    "print (\"Number of training examples: m_train = \" + str(m_train))\n",
    "print (\"Number of testing examples: m_test = \" + str(m_test))\n",
    "print (\"Height/Width of each image: num_px = \" + str(num_px))\n",
    "print (\"Each image is of size: (\" + str(num_px) + \", \" + str(num_px) + \", 3)\")\n",
    "print (\"train_set_x shape: \" + str(train_x_orig.shape))\n",
    "print (\"train_set_y shape: \" + str(train_y.shape))\n",
    "print (\"test_set_x shape: \" + str(test_x_orig.shape))\n",
    "print (\"test_set_y shape: \" + str(test_y.shape))"
   ]
  },
  {
   "cell_type": "code",
   "execution_count": 5,
   "metadata": {},
   "outputs": [
    {
     "name": "stdout",
     "output_type": "stream",
     "text": [
      "y = 1. It's a cat picture.\n"
     ]
    },
    {
     "data": {
      "image/png": "[encoded data removed]",
      "text/plain": [
       "<Figure size 432x288 with 1 Axes>"
      ]
     },
     "metadata": {
      "needs_background": "light"
     },
     "output_type": "display_data"
    }
   ],
   "source": [
    "index = 200\n",
    "plt.imshow(train_x_orig[index])\n",
    "print (\"y = \" + str(train_y[0,index]) + \". It's a \" + classes[train_y[0,index]].decode(\"utf-8\") +  \" picture.\")"
   ]
  },
  {
   "cell_type": "code",
   "execution_count": 6,
   "metadata": {},
   "outputs": [],
   "source": [
    "layers_dims = [12288, 20, 7, 5, 1]"
   ]
  },
  {
   "cell_type": "code",
   "execution_count": 7,
   "metadata": {},
   "outputs": [],
   "source": [
    "def L_layer_model(X, Y, layers_dims, learning_rate = 0.0075, num_iterations = 3000, print_cost=False):#lr was 0.009\n",
    "    \"\"\"\n",
    "    Implements a L-layer neural network: [LINEAR->RELU]*(L-1)->LINEAR->SIGMOID.\n",
    "    \n",
    "    Arguments:\n",
    "    X -- data, numpy array of shape (num_px * num_px * 3, number of examples)\n",
    "    Y -- true \"label\" vector (containing 0 if cat, 1 if non-cat), of shape (1, number of examples)\n",
    "    layers_dims -- list containing the input size and each layer size, of length (number of layers + 1).\n",
    "    learning_rate -- learning rate of the gradient descent update rule\n",
    "    num_iterations -- number of iterations of the optimization loop\n",
    "    print_cost -- if True, it prints the cost every 100 steps\n",
    "    \n",
    "    Returns:\n",
    "    parameters -- parameters learnt by the model. They can then be used to predict.\n",
    "    \"\"\"\n",
    "\n",
    "    #np.random.seed(1)\n",
    "    costs = []                         # keep track of cost\n",
    "    \n",
    "    # Parameters initialization. (≈ 1 line of code)\n",
    "    ### START CODE HERE ###\n",
    "    parameters = initialize_parameters_deep(layers_dims) \n",
    "    ### END CODE HERE ###\n",
    "    \n",
    "    # Loop (gradient descent)\n",
    "    for i in range(0, num_iterations):\n",
    "\n",
    "        # Forward propagation: [LINEAR -> RELU]*(L-1) -> LINEAR -> SIGMOID.\n",
    "        AL, caches = L_model_forward(X, parameters)\n",
    "        \n",
    "        # Compute cost\n",
    "        cost = compute_cost(AL, Y)\n",
    "    \n",
    "        # Backward propagation\n",
    "        grads = L_model_backward(AL, Y, caches)\n",
    " \n",
    "        # Update parameters.\n",
    "        parameters = update_parameters(parameters, grads, learning_rate)\n",
    "                \n",
    "        # Print the cost every 100 training example\n",
    "        if print_cost and i % 100 == 0:\n",
    "            print (\"Cost after iteration %i: %f\" %(i, cost))\n",
    "        if print_cost and i % 100 == 0:\n",
    "            costs.append(cost)\n",
    "            \n",
    "    # plot the cost\n",
    "    plt.plot(np.squeeze(costs))\n",
    "    plt.ylabel('cost')\n",
    "    plt.xlabel('iterations (per hundreds)')\n",
    "    plt.title(\"Learning rate =\" + str(learning_rate))\n",
    "    plt.show()\n",
    "    \n",
    "    return parameters"
   ]
  },
  {
   "cell_type": "code",
   "execution_count": 8,
   "metadata": {},
   "outputs": [
    {
     "name": "stdout",
     "output_type": "stream",
     "text": [
      "Cost after iteration 0: 0.771749\n",
      "Cost after iteration 100: 0.672053\n",
      "Cost after iteration 200: 0.648263\n",
      "Cost after iteration 300: 0.611507\n",
      "Cost after iteration 400: 0.567047\n",
      "Cost after iteration 500: 0.540138\n",
      "Cost after iteration 600: 0.527930\n",
      "Cost after iteration 700: 0.465477\n",
      "Cost after iteration 800: 0.369126\n",
      "Cost after iteration 900: 0.391747\n",
      "Cost after iteration 1000: 0.315187\n",
      "Cost after iteration 1100: 0.272700\n",
      "Cost after iteration 1200: 0.237419\n",
      "Cost after iteration 1300: 0.199601\n",
      "Cost after iteration 1400: 0.189263\n",
      "Cost after iteration 1500: 0.161189\n",
      "Cost after iteration 1600: 0.148214\n",
      "Cost after iteration 1700: 0.137775\n",
      "Cost after iteration 1800: 0.129740\n",
      "Cost after iteration 1900: 0.121225\n",
      "Cost after iteration 2000: 0.113821\n",
      "Cost after iteration 2100: 0.107839\n",
      "Cost after iteration 2200: 0.102855\n",
      "Cost after iteration 2300: 0.100897\n",
      "Cost after iteration 2400: 0.092878\n",
      "Cost after iteration 2500: 0.088413\n",
      "Cost after iteration 2600: 0.085951\n",
      "Cost after iteration 2700: 0.081681\n",
      "Cost after iteration 2800: 0.078247\n",
      "Cost after iteration 2900: 0.075444\n",
      "Cost after iteration 3000: 0.073324\n",
      "Cost after iteration 3100: 0.070809\n",
      "Cost after iteration 3200: 0.068537\n",
      "Cost after iteration 3300: 0.067615\n",
      "Cost after iteration 3400: 0.065903\n",
      "Cost after iteration 3500: 0.063853\n",
      "Cost after iteration 3600: 0.063002\n",
      "Cost after iteration 3700: 0.061496\n",
      "Cost after iteration 3800: 0.060347\n",
      "Cost after iteration 3900: 0.059963\n",
      "Cost after iteration 4000: 0.059066\n",
      "Cost after iteration 4100: 0.057790\n",
      "Cost after iteration 4200: 0.057666\n",
      "Cost after iteration 4300: 0.056678\n",
      "Cost after iteration 4400: 0.056469\n",
      "Cost after iteration 4500: 0.055453\n",
      "Cost after iteration 4600: 0.055135\n",
      "Cost after iteration 4700: 0.054632\n",
      "Cost after iteration 4800: 0.054635\n",
      "Cost after iteration 4900: 0.054337\n",
      "Cost after iteration 5000: 0.053612\n",
      "Cost after iteration 5100: 0.053975\n",
      "Cost after iteration 5200: 0.053247\n",
      "Cost after iteration 5300: 0.052980\n",
      "Cost after iteration 5400: 0.052775\n",
      "Cost after iteration 5500: 0.052724\n",
      "Cost after iteration 5600: 0.052438\n",
      "Cost after iteration 5700: 0.052040\n",
      "Cost after iteration 5800: 0.052345\n",
      "Cost after iteration 5900: 0.051862\n",
      "Cost after iteration 6000: 0.052164\n",
      "Cost after iteration 6100: 0.051728\n",
      "Cost after iteration 6200: 0.051643\n",
      "Cost after iteration 6300: 0.051489\n",
      "Cost after iteration 6400: 0.051304\n",
      "Cost after iteration 6500: 0.051243\n",
      "Cost after iteration 6600: 0.051284\n",
      "Cost after iteration 6700: 0.051051\n",
      "Cost after iteration 6800: 0.051010\n",
      "Cost after iteration 6900: 0.050806\n",
      "Cost after iteration 7000: 0.050788\n",
      "Cost after iteration 7100: 0.050553\n",
      "Cost after iteration 7200: 0.050664\n",
      "Cost after iteration 7300: 0.050664\n",
      "Cost after iteration 7400: 0.050439\n",
      "Cost after iteration 7500: 0.050420\n",
      "Cost after iteration 7600: 0.050376\n",
      "Cost after iteration 7700: 0.050425\n",
      "Cost after iteration 7800: 0.050210\n",
      "Cost after iteration 7900: 0.050407\n",
      "Cost after iteration 8000: 0.050229\n",
      "Cost after iteration 8100: 0.050209\n",
      "Cost after iteration 8200: 0.050148\n",
      "Cost after iteration 8300: 0.050062\n",
      "Cost after iteration 8400: 0.050099\n",
      "Cost after iteration 8500: 0.050088\n",
      "Cost after iteration 8600: 0.050009\n",
      "Cost after iteration 8700: 0.049972\n",
      "Cost after iteration 8800: 0.049939\n",
      "Cost after iteration 8900: 0.049954\n",
      "Cost after iteration 9000: 0.049916\n",
      "Cost after iteration 9100: 0.049802\n",
      "Cost after iteration 9200: 0.049799\n",
      "Cost after iteration 9300: 0.049779\n",
      "Cost after iteration 9400: 0.049803\n",
      "Cost after iteration 9500: 0.049729\n",
      "Cost after iteration 9600: 0.049697\n",
      "Cost after iteration 9700: 0.049693\n",
      "Cost after iteration 9800: 0.049651\n",
      "Cost after iteration 9900: 0.049694\n",
      "Cost after iteration 10000: 0.049628\n",
      "Cost after iteration 10100: 0.049606\n",
      "Cost after iteration 10200: 0.049560\n",
      "Cost after iteration 10300: 0.049616\n",
      "Cost after iteration 10400: 0.049578\n",
      "Cost after iteration 10500: 0.049569\n",
      "Cost after iteration 10600: 0.049567\n",
      "Cost after iteration 10700: 0.049551\n",
      "Cost after iteration 10800: 0.049517\n",
      "Cost after iteration 10900: 0.049499\n",
      "Cost after iteration 11000: 0.049459\n",
      "Cost after iteration 11100: 0.049478\n",
      "Cost after iteration 11200: 0.049438\n",
      "Cost after iteration 11300: 0.049441\n",
      "Cost after iteration 11400: 0.049399\n",
      "Cost after iteration 11500: 0.049363\n",
      "Cost after iteration 11600: 0.049382\n",
      "Cost after iteration 11700: 0.049373\n",
      "Cost after iteration 11800: 0.049329\n",
      "Cost after iteration 11900: 0.049341\n",
      "Cost after iteration 12000: 0.049339\n",
      "Cost after iteration 12100: 0.049329\n",
      "Cost after iteration 12200: 0.049318\n",
      "Cost after iteration 12300: 0.049248\n",
      "Cost after iteration 12400: 0.049273\n",
      "Cost after iteration 12500: 0.049263\n",
      "Cost after iteration 12600: 0.049178\n",
      "Cost after iteration 12700: 0.049183\n",
      "Cost after iteration 12800: 0.049228\n",
      "Cost after iteration 12900: 0.049227\n",
      "Cost after iteration 13000: 0.049216\n",
      "Cost after iteration 13100: 0.049219\n",
      "Cost after iteration 13200: 0.049173\n",
      "Cost after iteration 13300: 0.049183\n",
      "Cost after iteration 13400: 0.049158\n",
      "Cost after iteration 13500: 0.049132\n",
      "Cost after iteration 13600: 0.049132\n",
      "Cost after iteration 13700: 0.049116\n",
      "Cost after iteration 13800: 0.049103\n",
      "Cost after iteration 13900: 0.049106\n",
      "Cost after iteration 14000: 0.049098\n",
      "Cost after iteration 14100: 0.049003\n",
      "Cost after iteration 14200: 0.049013\n",
      "Cost after iteration 14300: 0.049027\n",
      "Cost after iteration 14400: 0.049015\n",
      "Cost after iteration 14500: 0.048963\n",
      "Cost after iteration 14600: 0.049004\n",
      "Cost after iteration 14700: 0.048957\n",
      "Cost after iteration 14800: 0.048953\n",
      "Cost after iteration 14900: 0.048959\n",
      "Cost after iteration 15000: 0.048915\n",
      "Cost after iteration 15100: 0.048907\n",
      "Cost after iteration 15200: 0.048895\n",
      "Cost after iteration 15300: 0.048864\n",
      "Cost after iteration 15400: 0.048867\n",
      "Cost after iteration 15500: 0.048843\n",
      "Cost after iteration 15600: 0.048804\n",
      "Cost after iteration 15700: 0.048778\n",
      "Cost after iteration 15800: 0.048799\n",
      "Cost after iteration 15900: 0.048797\n",
      "Cost after iteration 16000: 0.048778\n",
      "Cost after iteration 16100: 0.048686\n",
      "Cost after iteration 16200: 0.048555\n",
      "Cost after iteration 16300: 0.048537\n",
      "Cost after iteration 16400: 0.048579\n",
      "Cost after iteration 16500: 0.048524\n",
      "Cost after iteration 16600: 0.048688\n",
      "Cost after iteration 16700: 0.048546\n",
      "Cost after iteration 16800: 0.048644\n",
      "Cost after iteration 16900: 0.048521\n",
      "Cost after iteration 17000: 0.048610\n",
      "Cost after iteration 17100: 0.048504\n",
      "Cost after iteration 17200: 0.048411\n",
      "Cost after iteration 17300: 0.048477\n",
      "Cost after iteration 17400: 0.048564\n",
      "Cost after iteration 17500: 0.048491\n",
      "Cost after iteration 17600: 0.048504\n",
      "Cost after iteration 17700: 0.048420\n",
      "Cost after iteration 17800: 0.048308\n",
      "Cost after iteration 17900: 0.048236\n",
      "Cost after iteration 18000: 0.048219\n",
      "Cost after iteration 18100: 0.048224\n",
      "Cost after iteration 18200: 0.048331\n",
      "Cost after iteration 18300: 0.048200\n",
      "Cost after iteration 18400: 0.048235\n",
      "Cost after iteration 18500: 0.048135\n",
      "Cost after iteration 18600: 0.048256\n",
      "Cost after iteration 18700: 0.048293\n",
      "Cost after iteration 18800: 0.048078\n",
      "Cost after iteration 18900: 0.048064\n",
      "Cost after iteration 19000: 0.048075\n",
      "Cost after iteration 19100: 0.048140\n",
      "Cost after iteration 19200: 0.048165\n",
      "Cost after iteration 19300: 0.048127\n",
      "Cost after iteration 19400: 0.048084\n",
      "Cost after iteration 19500: 0.048064\n",
      "Cost after iteration 19600: 0.048014\n",
      "Cost after iteration 19700: 0.047901\n",
      "Cost after iteration 19800: 0.047864\n",
      "Cost after iteration 19900: 0.047832\n",
      "Cost after iteration 20000: 0.047823\n",
      "Cost after iteration 20100: 0.047768\n",
      "Cost after iteration 20200: 0.047788\n",
      "Cost after iteration 20300: 0.047867\n",
      "Cost after iteration 20400: 0.047835\n",
      "Cost after iteration 20500: 0.047721\n",
      "Cost after iteration 20600: 0.047627\n",
      "Cost after iteration 20700: 0.047702\n",
      "Cost after iteration 20800: 0.047583\n",
      "Cost after iteration 20900: 0.047702\n",
      "Cost after iteration 21000: 0.047656\n",
      "Cost after iteration 21100: 0.047608\n",
      "Cost after iteration 21200: 0.047592\n",
      "Cost after iteration 21300: 0.047572\n",
      "Cost after iteration 21400: 0.047402\n",
      "Cost after iteration 21500: 0.047380\n",
      "Cost after iteration 21600: 0.047431\n",
      "Cost after iteration 21700: 0.047302\n",
      "Cost after iteration 21800: 0.047346\n",
      "Cost after iteration 21900: 0.047252\n",
      "Cost after iteration 22000: 0.047327\n",
      "Cost after iteration 22100: 0.047310\n",
      "Cost after iteration 22200: 0.047214\n",
      "Cost after iteration 22300: 0.047132\n",
      "Cost after iteration 22400: 0.047067\n"
     ]
    },
    {
     "name": "stdout",
     "output_type": "stream",
     "text": [
      "Cost after iteration 22500: 0.047033\n",
      "Cost after iteration 22600: 0.047097\n",
      "Cost after iteration 22700: 0.046960\n",
      "Cost after iteration 22800: 0.047005\n",
      "Cost after iteration 22900: 0.046862\n",
      "Cost after iteration 23000: 0.046840\n",
      "Cost after iteration 23100: 0.046784\n",
      "Cost after iteration 23200: 0.046766\n",
      "Cost after iteration 23300: 0.046716\n",
      "Cost after iteration 23400: 0.046682\n",
      "Cost after iteration 23500: 0.046641\n",
      "Cost after iteration 23600: 0.046592\n",
      "Cost after iteration 23700: 0.046577\n",
      "Cost after iteration 23800: 0.046508\n",
      "Cost after iteration 23900: 0.046452\n",
      "Cost after iteration 24000: 0.046419\n",
      "Cost after iteration 24100: 0.046385\n",
      "Cost after iteration 24200: 0.046375\n",
      "Cost after iteration 24300: 0.046276\n",
      "Cost after iteration 24400: 0.046217\n",
      "Cost after iteration 24500: 0.046170\n",
      "Cost after iteration 24600: 0.046212\n",
      "Cost after iteration 24700: 0.046141\n",
      "Cost after iteration 24800: 0.046035\n",
      "Cost after iteration 24900: 0.046014\n"
     ]
    },
    {
     "data": {
      "image/png": "[encoded data removed]",
      "text/plain": [
       "<Figure size 432x288 with 1 Axes>"
      ]
     },
     "metadata": {
      "needs_background": "light"
     },
     "output_type": "display_data"
    }
   ],
   "source": [
    "parameters = L_layer_model(train_x, train_y, layers_dims, num_iterations = 25000, print_cost = True)"
   ]
  },
  {
   "cell_type": "code",
   "execution_count": 9,
   "metadata": {},
   "outputs": [
    {
     "name": "stdout",
     "output_type": "stream",
     "text": [
      "Accuracy: 0.9904306220095691\n",
      "Accuracy: 0.78\n"
     ]
    }
   ],
   "source": [
    "pred_train = predict(train_x, train_y, parameters)\n",
    "pred_test = predict(test_x, test_y, parameters)"
   ]
  },
  {
   "cell_type": "code",
   "execution_count": 10,
   "metadata": {},
   "outputs": [],
   "source": [
    "layers_dims_2 = [12288, 7, 1]   ## Try a different model"
   ]
  },
  {
   "cell_type": "code",
   "execution_count": 11,
   "metadata": {},
   "outputs": [
    {
     "name": "stdout",
     "output_type": "stream",
     "text": [
      "Cost after iteration 0: 0.695046\n",
      "Cost after iteration 100: 0.576272\n",
      "Cost after iteration 200: 0.601729\n",
      "Cost after iteration 300: 0.570167\n",
      "Cost after iteration 400: 0.569466\n",
      "Cost after iteration 500: 0.538526\n",
      "Cost after iteration 600: 0.574487\n",
      "Cost after iteration 700: 0.423192\n",
      "Cost after iteration 800: 0.350093\n",
      "Cost after iteration 900: 0.532013\n",
      "Cost after iteration 1000: 0.357629\n",
      "Cost after iteration 1100: 0.638877\n",
      "Cost after iteration 1200: 0.297825\n",
      "Cost after iteration 1300: 0.290783\n",
      "Cost after iteration 1400: 0.336221\n",
      "Cost after iteration 1500: 0.323154\n",
      "Cost after iteration 1600: 0.326686\n",
      "Cost after iteration 1700: 0.259390\n",
      "Cost after iteration 1800: 0.259151\n",
      "Cost after iteration 1900: 0.519477\n",
      "Cost after iteration 2000: 0.259111\n",
      "Cost after iteration 2100: 0.258822\n",
      "Cost after iteration 2200: 0.257778\n",
      "Cost after iteration 2300: 0.256411\n",
      "Cost after iteration 2400: 0.254139\n"
     ]
    },
    {
     "data": {
      "image/png": "[encoded data removed]",
      "text/plain": [
       "<Figure size 432x288 with 1 Axes>"
      ]
     },
     "metadata": {
      "needs_background": "light"
     },
     "output_type": "display_data"
    }
   ],
   "source": [
    "parameters_2 = L_layer_model(train_x, train_y, layers_dims_2, learning_rate=0.075 ,num_iterations = 2500, print_cost = True)"
   ]
  },
  {
   "cell_type": "code",
   "execution_count": 12,
   "metadata": {},
   "outputs": [
    {
     "name": "stdout",
     "output_type": "stream",
     "text": [
      "Accuracy: 0.8899521531100477\n",
      "Accuracy: 0.6400000000000001\n"
     ]
    }
   ],
   "source": [
    "pred_train = predict(train_x, train_y, parameters_2)\n",
    "pred_test = predict(test_x, test_y, parameters_2)"
   ]
  },
  {
   "cell_type": "code",
   "execution_count": 13,
   "metadata": {},
   "outputs": [
    {
     "ename": "AttributeError",
     "evalue": "module 'skimage' has no attribute 'io'",
     "output_type": "error",
     "traceback": [
      "\u001b[0;31m---------------------------------------------------------------------------\u001b[0m",
      "\u001b[0;31mAttributeError\u001b[0m                            Traceback (most recent call last)",
      "\u001b[0;32m<ipython-input-13-00c948b6f65c>\u001b[0m in \u001b[0;36m<module>\u001b[0;34m\u001b[0m\n\u001b[1;32m      5\u001b[0m \u001b[0;31m# We preprocess the image to fit your algorithm.\u001b[0m\u001b[0;34m\u001b[0m\u001b[0;34m\u001b[0m\u001b[0;34m\u001b[0m\u001b[0m\n\u001b[1;32m      6\u001b[0m \u001b[0mfname\u001b[0m \u001b[0;34m=\u001b[0m \u001b[0;34m\"images/\"\u001b[0m \u001b[0;34m+\u001b[0m \u001b[0mmy_image\u001b[0m\u001b[0;34m\u001b[0m\u001b[0;34m\u001b[0m\u001b[0m\n\u001b[0;32m----> 7\u001b[0;31m \u001b[0mimage\u001b[0m \u001b[0;34m=\u001b[0m \u001b[0mnp\u001b[0m\u001b[0;34m.\u001b[0m\u001b[0marray\u001b[0m\u001b[0;34m(\u001b[0m\u001b[0mskimage\u001b[0m\u001b[0;34m.\u001b[0m\u001b[0mio\u001b[0m\u001b[0;34m.\u001b[0m\u001b[0mimread\u001b[0m\u001b[0;34m(\u001b[0m\u001b[0mfname\u001b[0m\u001b[0;34m,\u001b[0m \u001b[0mas_gray\u001b[0m\u001b[0;34m=\u001b[0m\u001b[0;32mFalse\u001b[0m\u001b[0;34m)\u001b[0m\u001b[0;34m)\u001b[0m\u001b[0;34m\u001b[0m\u001b[0;34m\u001b[0m\u001b[0m\n\u001b[0m\u001b[1;32m      8\u001b[0m \u001b[0mimage\u001b[0m \u001b[0;34m=\u001b[0m \u001b[0mimage\u001b[0m\u001b[0;34m/\u001b[0m\u001b[0;36m255.\u001b[0m\u001b[0;34m\u001b[0m\u001b[0;34m\u001b[0m\u001b[0m\n\u001b[1;32m      9\u001b[0m \u001b[0mmy_image\u001b[0m \u001b[0;34m=\u001b[0m \u001b[0mskimage\u001b[0m\u001b[0;34m.\u001b[0m\u001b[0mtransform\u001b[0m\u001b[0;34m.\u001b[0m\u001b[0mresize\u001b[0m\u001b[0;34m(\u001b[0m\u001b[0mimage\u001b[0m\u001b[0;34m,\u001b[0m \u001b[0;34m(\u001b[0m\u001b[0mnum_px\u001b[0m\u001b[0;34m,\u001b[0m\u001b[0mnum_px\u001b[0m\u001b[0;34m)\u001b[0m\u001b[0;34m)\u001b[0m\u001b[0;34m\u001b[0m\u001b[0;34m\u001b[0m\u001b[0m\n",
      "\u001b[0;31mAttributeError\u001b[0m: module 'skimage' has no attribute 'io'"
     ]
    }
   ],
   "source": [
    "my_image = \"squirrel.jpg\" \n",
    "my_label_y = [0]                           # change this to the name of your image file \n",
    "\n",
    "\n",
    "# We preprocess the image to fit your algorithm.\n",
    "fname = \"images/\" + my_image\n",
    "image = np.array(skimage.io.imread(fname, as_gray=False))\n",
    "image = image/255.\n",
    "my_image = skimage.transform.resize(image, (num_px,num_px))\n",
    "#my_image = my_image.reshape(my_image.shape[0],-1).T  \n",
    "my_image = my_image.reshape(num_px*num_px*3,1) \n",
    "\n",
    "#my_image = skimage.transform.resize(my_image, (num_px*num_px*3,1))\n",
    "\n",
    "my_predicted_image = predict(my_image, my_label_y, parameters)\n",
    "\n",
    "#my_predicted_image = predict(d[\"w\"], d[\"b\"], my_image)\n",
    "\n",
    "plt.imshow(image)\n",
    "print(\"y = \" + str(np.squeeze(my_predicted_image)) + \", your algorithm predicts a \\\"\" + classes[int(np.squeeze(my_predicted_image)),].decode(\"utf-8\") +  \"\\\" picture.\")\n",
    "\n"
   ]
  },
  {
   "cell_type": "code",
   "execution_count": 14,
   "metadata": {},
   "outputs": [
    {
     "ename": "AttributeError",
     "evalue": "module 'skimage' has no attribute 'io'",
     "output_type": "error",
     "traceback": [
      "\u001b[0;31m---------------------------------------------------------------------------\u001b[0m",
      "\u001b[0;31mAttributeError\u001b[0m                            Traceback (most recent call last)",
      "\u001b[0;32m<ipython-input-14-7b078c5a14af>\u001b[0m in \u001b[0;36m<module>\u001b[0;34m\u001b[0m\n\u001b[1;32m      5\u001b[0m \u001b[0;31m#Preprocess the image to fit the algorithm.\u001b[0m\u001b[0;34m\u001b[0m\u001b[0;34m\u001b[0m\u001b[0;34m\u001b[0m\u001b[0m\n\u001b[1;32m      6\u001b[0m \u001b[0mfname\u001b[0m \u001b[0;34m=\u001b[0m \u001b[0;34m\"images/\"\u001b[0m \u001b[0;34m+\u001b[0m \u001b[0mmy_image\u001b[0m\u001b[0;34m\u001b[0m\u001b[0;34m\u001b[0m\u001b[0m\n\u001b[0;32m----> 7\u001b[0;31m \u001b[0mimage\u001b[0m \u001b[0;34m=\u001b[0m \u001b[0mnp\u001b[0m\u001b[0;34m.\u001b[0m\u001b[0marray\u001b[0m\u001b[0;34m(\u001b[0m\u001b[0mskimage\u001b[0m\u001b[0;34m.\u001b[0m\u001b[0mio\u001b[0m\u001b[0;34m.\u001b[0m\u001b[0mimread\u001b[0m\u001b[0;34m(\u001b[0m\u001b[0mfname\u001b[0m\u001b[0;34m,\u001b[0m \u001b[0mas_gray\u001b[0m\u001b[0;34m=\u001b[0m\u001b[0;32mFalse\u001b[0m\u001b[0;34m)\u001b[0m\u001b[0;34m)\u001b[0m\u001b[0;34m\u001b[0m\u001b[0;34m\u001b[0m\u001b[0m\n\u001b[0m\u001b[1;32m      8\u001b[0m \u001b[0mimage\u001b[0m \u001b[0;34m=\u001b[0m \u001b[0mimage\u001b[0m\u001b[0;34m/\u001b[0m\u001b[0;36m255.\u001b[0m\u001b[0;34m\u001b[0m\u001b[0;34m\u001b[0m\u001b[0m\n\u001b[1;32m      9\u001b[0m \u001b[0mmy_image\u001b[0m \u001b[0;34m=\u001b[0m \u001b[0mskimage\u001b[0m\u001b[0;34m.\u001b[0m\u001b[0mtransform\u001b[0m\u001b[0;34m.\u001b[0m\u001b[0mresize\u001b[0m\u001b[0;34m(\u001b[0m\u001b[0mimage\u001b[0m\u001b[0;34m,\u001b[0m \u001b[0;34m(\u001b[0m\u001b[0mnum_px\u001b[0m\u001b[0;34m,\u001b[0m\u001b[0mnum_px\u001b[0m\u001b[0;34m)\u001b[0m\u001b[0;34m,\u001b[0m \u001b[0manti_aliasing\u001b[0m\u001b[0;34m=\u001b[0m\u001b[0;32mTrue\u001b[0m\u001b[0;34m)\u001b[0m\u001b[0;34m\u001b[0m\u001b[0;34m\u001b[0m\u001b[0m\n",
      "\u001b[0;31mAttributeError\u001b[0m: module 'skimage' has no attribute 'io'"
     ]
    }
   ],
   "source": [
    "my_image = \"chilon_and_newt1.jpg\"\n",
    "my_label_y = [1]                           # change this to the name of your image file \n",
    "\n",
    "\n",
    "#Preprocess the image to fit the algorithm.\n",
    "fname = \"images/\" + my_image\n",
    "image = np.array(skimage.io.imread(fname, as_gray=False))\n",
    "image = image/255.\n",
    "my_image = skimage.transform.resize(image, (num_px,num_px), anti_aliasing=True)\n",
    "my_image = my_image.reshape(num_px*num_px*3,1) \n",
    "\n",
    "\n",
    "\n",
    "my_predicted_image = predict(my_image, my_label_y, parameters)\n",
    "\n",
    "#my_predicted_image = predict(d[\"w\"], d[\"b\"], my_image)\n",
    "\n",
    "plt.imshow(image)\n",
    "print(\"y = \" + str(np.squeeze(my_predicted_image)) + \", your algorithm predicts a \\\"\" + classes[int(np.squeeze(my_predicted_image)),].decode(\"utf-8\") +  \"\\\" picture.\")\n",
    "\n"
   ]
  },
  {
   "cell_type": "code",
   "execution_count": 30,
   "metadata": {},
   "outputs": [
    {
     "name": "stdout",
     "output_type": "stream",
     "text": [
      "Accuracy: 0.0\n",
      "Accuracy: 1.0\n",
      "y = 1.0, your L-layer model predicts a \"cat\" picture.\n",
      "y = 0.0, your L-layer model predicts a \"non-cat\" picture.\n"
     ]
    },
    {
     "data": {
      "image/png": "[encoded data removed]",
      "text/plain": [
       "<Figure size 432x288 with 1 Axes>"
      ]
     },
     "metadata": {
      "needs_background": "light"
     },
     "output_type": "display_data"
    }
   ],
   "source": [
    "my_image = \"puppy.jpg\" # change this to the name of your image file \n",
    "my_label_y = [0] # the true class of your image (1 -> cat, 0 -> non-cat)\n",
    "\n",
    "\n",
    "## trained/test image are 64 x 64 x 3, flatten \n",
    "newsize = (64, 64) \n",
    "\n",
    "fname = \"images/\" + my_image\n",
    "\n",
    "im1_np = np.asarray(Image.open(fname).resize(newsize).convert('RGB') )\n",
    "plt.imshow(im1_np)\n",
    "\n",
    "## we still need to flatten the array and rescale it, not done inline as we would like to show the image.\n",
    "im1_np = im1_np.reshape(-1, 1)/255\n",
    "my_predicted_image = predict(im1_np, my_label_y, parameters)\n",
    "my_predicted_image_2 = predict(im1_np, my_label_y, parameters_2)\n",
    "\n",
    "print (\"y = \" + str(np.squeeze(my_predicted_image)) + \", your L-layer model predicts a \\\"\" + classes[int(np.squeeze(my_predicted_image)),].decode(\"utf-8\") +  \"\\\" picture.\")\n",
    "print (\"y = \" + str(np.squeeze(my_predicted_image_2)) + \", your L-layer model predicts a \\\"\" + classes[int(np.squeeze(my_predicted_image_2)),].decode(\"utf-8\") +  \"\\\" picture.\")"
   ]
  },
  {
   "cell_type": "code",
   "execution_count": 27,
   "metadata": {},
   "outputs": [
    {
     "name": "stdout",
     "output_type": "stream",
     "text": [
      "Accuracy: 0.0\n",
      "y = 1.0, your L-layer model predicts a \"cat\" picture.\n"
     ]
    },
    {
     "data": {
      "image/png": "[encoded data removed]",
      "text/plain": [
       "<Figure size 432x288 with 1 Axes>"
      ]
     },
     "metadata": {
      "needs_background": "light"
     },
     "output_type": "display_data"
    }
   ],
   "source": [
    "my_image = \"pizza.jpg\" # change this to the name of your image file \n",
    "my_label_y = [0] # the true class of your image (1 -> cat, 0 -> non-cat)\n",
    "\n",
    "\n",
    "## trained/test image are 64 x 64 x 3, flatten \n",
    "newsize = (64, 64) \n",
    "\n",
    "fname = \"images/\" + my_image\n",
    "\n",
    "im1_np = np.asarray(Image.open(fname).resize(newsize).convert('RGB') )\n",
    "plt.imshow(im1_np)\n",
    "\n",
    "## we still need to flatten the array and rescale it, not done inline as we would like to show the image.\n",
    "im1_np = im1_np.reshape(-1, 1)/255\n",
    "my_predicted_image = predict(im1_np, my_label_y, parameters)\n",
    "\n",
    "print (\"y = \" + str(np.squeeze(my_predicted_image)) + \", your L-layer model predicts a \\\"\" + classes[int(np.squeeze(my_predicted_image)),].decode(\"utf-8\") +  \"\\\" picture.\")"
   ]
  },
  {
   "cell_type": "code",
   "execution_count": null,
   "metadata": {},
   "outputs": [],
   "source": []
  }
 ],
 "metadata": {
  "kernelspec": {
   "display_name": "Python 3",
   "language": "python",
   "name": "python3"
  },
  "language_info": {
   "codemirror_mode": {
    "name": "ipython",
    "version": 3
   },
   "file_extension": ".py",
   "mimetype": "text/x-python",
   "name": "python",
   "nbconvert_exporter": "python",
   "pygments_lexer": "ipython3",
   "version": "3.6.10"
  }
 },
 "nbformat": 4,
 "nbformat_minor": 2
}
